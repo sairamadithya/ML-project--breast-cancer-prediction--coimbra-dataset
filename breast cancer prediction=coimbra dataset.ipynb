{
 "cells": [
  {
   "cell_type": "code",
   "execution_count": 1,
   "id": "040f6c9b",
   "metadata": {},
   "outputs": [
    {
     "data": {
      "text/html": [
       "<div>\n",
       "<style scoped>\n",
       "    .dataframe tbody tr th:only-of-type {\n",
       "        vertical-align: middle;\n",
       "    }\n",
       "\n",
       "    .dataframe tbody tr th {\n",
       "        vertical-align: top;\n",
       "    }\n",
       "\n",
       "    .dataframe thead th {\n",
       "        text-align: right;\n",
       "    }\n",
       "</style>\n",
       "<table border=\"1\" class=\"dataframe\">\n",
       "  <thead>\n",
       "    <tr style=\"text-align: right;\">\n",
       "      <th></th>\n",
       "      <th>Age</th>\n",
       "      <th>BMI</th>\n",
       "      <th>Glucose</th>\n",
       "      <th>Insulin</th>\n",
       "      <th>HOMA</th>\n",
       "      <th>Leptin</th>\n",
       "      <th>Adiponectin</th>\n",
       "      <th>Resistin</th>\n",
       "      <th>MCP.1</th>\n",
       "      <th>Classification</th>\n",
       "    </tr>\n",
       "  </thead>\n",
       "  <tbody>\n",
       "    <tr>\n",
       "      <th>0</th>\n",
       "      <td>48</td>\n",
       "      <td>23.500000</td>\n",
       "      <td>70</td>\n",
       "      <td>2.707</td>\n",
       "      <td>0.467409</td>\n",
       "      <td>8.8071</td>\n",
       "      <td>9.702400</td>\n",
       "      <td>7.99585</td>\n",
       "      <td>417.114</td>\n",
       "      <td>1</td>\n",
       "    </tr>\n",
       "    <tr>\n",
       "      <th>1</th>\n",
       "      <td>83</td>\n",
       "      <td>20.690495</td>\n",
       "      <td>92</td>\n",
       "      <td>3.115</td>\n",
       "      <td>0.706897</td>\n",
       "      <td>8.8438</td>\n",
       "      <td>5.429285</td>\n",
       "      <td>4.06405</td>\n",
       "      <td>468.786</td>\n",
       "      <td>1</td>\n",
       "    </tr>\n",
       "    <tr>\n",
       "      <th>2</th>\n",
       "      <td>82</td>\n",
       "      <td>23.124670</td>\n",
       "      <td>91</td>\n",
       "      <td>4.498</td>\n",
       "      <td>1.009651</td>\n",
       "      <td>17.9393</td>\n",
       "      <td>22.432040</td>\n",
       "      <td>9.27715</td>\n",
       "      <td>554.697</td>\n",
       "      <td>1</td>\n",
       "    </tr>\n",
       "    <tr>\n",
       "      <th>3</th>\n",
       "      <td>68</td>\n",
       "      <td>21.367521</td>\n",
       "      <td>77</td>\n",
       "      <td>3.226</td>\n",
       "      <td>0.612725</td>\n",
       "      <td>9.8827</td>\n",
       "      <td>7.169560</td>\n",
       "      <td>12.76600</td>\n",
       "      <td>928.220</td>\n",
       "      <td>1</td>\n",
       "    </tr>\n",
       "    <tr>\n",
       "      <th>4</th>\n",
       "      <td>86</td>\n",
       "      <td>21.111111</td>\n",
       "      <td>92</td>\n",
       "      <td>3.549</td>\n",
       "      <td>0.805386</td>\n",
       "      <td>6.6994</td>\n",
       "      <td>4.819240</td>\n",
       "      <td>10.57635</td>\n",
       "      <td>773.920</td>\n",
       "      <td>1</td>\n",
       "    </tr>\n",
       "  </tbody>\n",
       "</table>\n",
       "</div>"
      ],
      "text/plain": [
       "   Age        BMI  Glucose  Insulin      HOMA   Leptin  Adiponectin  Resistin  \\\n",
       "0   48  23.500000       70    2.707  0.467409   8.8071     9.702400   7.99585   \n",
       "1   83  20.690495       92    3.115  0.706897   8.8438     5.429285   4.06405   \n",
       "2   82  23.124670       91    4.498  1.009651  17.9393    22.432040   9.27715   \n",
       "3   68  21.367521       77    3.226  0.612725   9.8827     7.169560  12.76600   \n",
       "4   86  21.111111       92    3.549  0.805386   6.6994     4.819240  10.57635   \n",
       "\n",
       "     MCP.1  Classification  \n",
       "0  417.114               1  \n",
       "1  468.786               1  \n",
       "2  554.697               1  \n",
       "3  928.220               1  \n",
       "4  773.920               1  "
      ]
     },
     "execution_count": 1,
     "metadata": {},
     "output_type": "execute_result"
    }
   ],
   "source": [
    "import numpy as np \n",
    "import pandas as pd \n",
    "from scipy import stats \n",
    "import seaborn as sns \n",
    "data= pd.read_csv(r\"C:\\Users\\sairam\\Downloads\\breast cancer coimbra dataset.csv\")\n",
    "data.head()"
   ]
  },
  {
   "cell_type": "code",
   "execution_count": 2,
   "id": "d0d0cd2c",
   "metadata": {},
   "outputs": [
    {
     "data": {
      "text/plain": [
       "Age               0\n",
       "BMI               0\n",
       "Glucose           0\n",
       "Insulin           0\n",
       "HOMA              0\n",
       "Leptin            0\n",
       "Adiponectin       0\n",
       "Resistin          0\n",
       "MCP.1             0\n",
       "Classification    0\n",
       "dtype: int64"
      ]
     },
     "execution_count": 2,
     "metadata": {},
     "output_type": "execute_result"
    }
   ],
   "source": [
    "data.isnull().sum()"
   ]
  },
  {
   "cell_type": "code",
   "execution_count": 3,
   "id": "603bcce6",
   "metadata": {},
   "outputs": [
    {
     "name": "stdout",
     "output_type": "stream",
     "text": [
      "<class 'pandas.core.frame.DataFrame'>\n",
      "RangeIndex: 116 entries, 0 to 115\n",
      "Data columns (total 10 columns):\n",
      " #   Column          Non-Null Count  Dtype  \n",
      "---  ------          --------------  -----  \n",
      " 0   Age             116 non-null    int64  \n",
      " 1   BMI             116 non-null    float64\n",
      " 2   Glucose         116 non-null    int64  \n",
      " 3   Insulin         116 non-null    float64\n",
      " 4   HOMA            116 non-null    float64\n",
      " 5   Leptin          116 non-null    float64\n",
      " 6   Adiponectin     116 non-null    float64\n",
      " 7   Resistin        116 non-null    float64\n",
      " 8   MCP.1           116 non-null    float64\n",
      " 9   Classification  116 non-null    int64  \n",
      "dtypes: float64(7), int64(3)\n",
      "memory usage: 9.2 KB\n"
     ]
    }
   ],
   "source": [
    "data.info()"
   ]
  },
  {
   "cell_type": "code",
   "execution_count": 4,
   "id": "e2f89045",
   "metadata": {},
   "outputs": [
    {
     "name": "stdout",
     "output_type": "stream",
     "text": [
      "<class 'pandas.core.frame.DataFrame'>\n",
      "Int64Index: 116 entries, 0 to 115\n",
      "Data columns (total 10 columns):\n",
      " #   Column          Non-Null Count  Dtype  \n",
      "---  ------          --------------  -----  \n",
      " 0   Age             116 non-null    int64  \n",
      " 1   BMI             116 non-null    float64\n",
      " 2   Glucose         116 non-null    int64  \n",
      " 3   Insulin         116 non-null    float64\n",
      " 4   HOMA            116 non-null    float64\n",
      " 5   Leptin          116 non-null    float64\n",
      " 6   Adiponectin     116 non-null    float64\n",
      " 7   Resistin        116 non-null    float64\n",
      " 8   MCP.1           116 non-null    float64\n",
      " 9   Classification  116 non-null    int64  \n",
      "dtypes: float64(7), int64(3)\n",
      "memory usage: 10.0 KB\n"
     ]
    }
   ],
   "source": [
    "data=data.drop_duplicates()\n",
    "data.info()"
   ]
  },
  {
   "cell_type": "code",
   "execution_count": 5,
   "id": "bd97b5c9",
   "metadata": {},
   "outputs": [
    {
     "data": {
      "text/html": [
       "<div>\n",
       "<style scoped>\n",
       "    .dataframe tbody tr th:only-of-type {\n",
       "        vertical-align: middle;\n",
       "    }\n",
       "\n",
       "    .dataframe tbody tr th {\n",
       "        vertical-align: top;\n",
       "    }\n",
       "\n",
       "    .dataframe thead th {\n",
       "        text-align: right;\n",
       "    }\n",
       "</style>\n",
       "<table border=\"1\" class=\"dataframe\">\n",
       "  <thead>\n",
       "    <tr style=\"text-align: right;\">\n",
       "      <th></th>\n",
       "      <th>Age</th>\n",
       "      <th>BMI</th>\n",
       "      <th>Glucose</th>\n",
       "      <th>Insulin</th>\n",
       "      <th>HOMA</th>\n",
       "      <th>Leptin</th>\n",
       "      <th>Adiponectin</th>\n",
       "      <th>Resistin</th>\n",
       "      <th>MCP.1</th>\n",
       "      <th>Classification</th>\n",
       "    </tr>\n",
       "  </thead>\n",
       "  <tbody>\n",
       "    <tr>\n",
       "      <th>0</th>\n",
       "      <td>0.369231</td>\n",
       "      <td>0.253850</td>\n",
       "      <td>0.070922</td>\n",
       "      <td>0.004908</td>\n",
       "      <td>0.000000</td>\n",
       "      <td>0.052299</td>\n",
       "      <td>0.221152</td>\n",
       "      <td>0.060665</td>\n",
       "      <td>0.224659</td>\n",
       "      <td>0.0</td>\n",
       "    </tr>\n",
       "    <tr>\n",
       "      <th>1</th>\n",
       "      <td>0.907692</td>\n",
       "      <td>0.114826</td>\n",
       "      <td>0.226950</td>\n",
       "      <td>0.012190</td>\n",
       "      <td>0.009742</td>\n",
       "      <td>0.052726</td>\n",
       "      <td>0.103707</td>\n",
       "      <td>0.010826</td>\n",
       "      <td>0.255926</td>\n",
       "      <td>0.0</td>\n",
       "    </tr>\n",
       "    <tr>\n",
       "      <th>2</th>\n",
       "      <td>0.892308</td>\n",
       "      <td>0.235278</td>\n",
       "      <td>0.219858</td>\n",
       "      <td>0.036874</td>\n",
       "      <td>0.022058</td>\n",
       "      <td>0.158526</td>\n",
       "      <td>0.571021</td>\n",
       "      <td>0.076906</td>\n",
       "      <td>0.307912</td>\n",
       "      <td>0.0</td>\n",
       "    </tr>\n",
       "    <tr>\n",
       "      <th>3</th>\n",
       "      <td>0.676923</td>\n",
       "      <td>0.148328</td>\n",
       "      <td>0.120567</td>\n",
       "      <td>0.014171</td>\n",
       "      <td>0.005911</td>\n",
       "      <td>0.064811</td>\n",
       "      <td>0.151538</td>\n",
       "      <td>0.121131</td>\n",
       "      <td>0.533934</td>\n",
       "      <td>0.0</td>\n",
       "    </tr>\n",
       "    <tr>\n",
       "      <th>4</th>\n",
       "      <td>0.953846</td>\n",
       "      <td>0.135640</td>\n",
       "      <td>0.226950</td>\n",
       "      <td>0.019936</td>\n",
       "      <td>0.013748</td>\n",
       "      <td>0.027782</td>\n",
       "      <td>0.086940</td>\n",
       "      <td>0.093375</td>\n",
       "      <td>0.440565</td>\n",
       "      <td>0.0</td>\n",
       "    </tr>\n",
       "  </tbody>\n",
       "</table>\n",
       "</div>"
      ],
      "text/plain": [
       "        Age       BMI   Glucose   Insulin      HOMA    Leptin  Adiponectin  \\\n",
       "0  0.369231  0.253850  0.070922  0.004908  0.000000  0.052299     0.221152   \n",
       "1  0.907692  0.114826  0.226950  0.012190  0.009742  0.052726     0.103707   \n",
       "2  0.892308  0.235278  0.219858  0.036874  0.022058  0.158526     0.571021   \n",
       "3  0.676923  0.148328  0.120567  0.014171  0.005911  0.064811     0.151538   \n",
       "4  0.953846  0.135640  0.226950  0.019936  0.013748  0.027782     0.086940   \n",
       "\n",
       "   Resistin     MCP.1  Classification  \n",
       "0  0.060665  0.224659             0.0  \n",
       "1  0.010826  0.255926             0.0  \n",
       "2  0.076906  0.307912             0.0  \n",
       "3  0.121131  0.533934             0.0  \n",
       "4  0.093375  0.440565             0.0  "
      ]
     },
     "execution_count": 5,
     "metadata": {},
     "output_type": "execute_result"
    }
   ],
   "source": [
    "for column in data.columns:\n",
    "    data[column] = (data[column] - data[column].min()) / (data[column].max() - data[column].min()) \n",
    "data.head()"
   ]
  },
  {
   "cell_type": "code",
   "execution_count": 6,
   "id": "9f2f2451",
   "metadata": {},
   "outputs": [
    {
     "name": "stdout",
     "output_type": "stream",
     "text": [
      "1.0    64\n",
      "0.0    52\n",
      "Name: Classification, dtype: int64\n"
     ]
    }
   ],
   "source": [
    "print(data['Classification'].value_counts())\n",
    "df_class_0 = data[data['Classification'] == 0]\n",
    "df_class_1 = data[data['Classification'] == 1]"
   ]
  },
  {
   "cell_type": "code",
   "execution_count": 7,
   "id": "38cc3aec",
   "metadata": {},
   "outputs": [
    {
     "name": "stdout",
     "output_type": "stream",
     "text": [
      "<class 'pandas.core.frame.DataFrame'>\n",
      "Int64Index: 500 entries, 31 to 52\n",
      "Data columns (total 10 columns):\n",
      " #   Column          Non-Null Count  Dtype  \n",
      "---  ------          --------------  -----  \n",
      " 0   Age             500 non-null    float64\n",
      " 1   BMI             500 non-null    float64\n",
      " 2   Glucose         500 non-null    float64\n",
      " 3   Insulin         500 non-null    float64\n",
      " 4   HOMA            500 non-null    float64\n",
      " 5   Leptin          500 non-null    float64\n",
      " 6   Adiponectin     500 non-null    float64\n",
      " 7   Resistin        500 non-null    float64\n",
      " 8   MCP.1           500 non-null    float64\n",
      " 9   Classification  500 non-null    float64\n",
      "dtypes: float64(10)\n",
      "memory usage: 43.0 KB\n"
     ]
    }
   ],
   "source": [
    "df_class_1_over = df_class_1.sample(250, replace=True)\n",
    "df_class_0_over = df_class_0.sample(250, replace=True)\n",
    "df_test_over = pd.concat([df_class_0_over, df_class_1_over], axis=0)\n",
    "df_test_over.info()"
   ]
  },
  {
   "cell_type": "code",
   "execution_count": 8,
   "id": "0ca308f3",
   "metadata": {},
   "outputs": [],
   "source": [
    "y1=df_test_over['Classification']\n",
    "df_test_over=df_test_over.drop(['Classification'],axis=1)\n",
    "X1=df_test_over"
   ]
  },
  {
   "cell_type": "code",
   "execution_count": 9,
   "id": "80e8c806",
   "metadata": {},
   "outputs": [
    {
     "name": "stdout",
     "output_type": "stream",
     "text": [
      "training data shape is :(375, 9).\n",
      "training label shape is :(375,).\n",
      "testing data shape is :(125, 9).\n",
      "testing label shape is :(125,).\n"
     ]
    }
   ],
   "source": [
    "from sklearn.model_selection import train_test_split\n",
    "\n",
    "X1_s_train,X1_s_test ,y1_s_train, y1_s_test = train_test_split(X1,y1,\n",
    "                                                   test_size=0.25,\n",
    "                                                   random_state=0,\n",
    "                                                  shuffle = True,\n",
    "                                                  stratify = y1)\n",
    "\n",
    "print('training data shape is :{}.'.format(X1_s_train.shape))\n",
    "print('training label shape is :{}.'.format(y1_s_train.shape))\n",
    "print('testing data shape is :{}.'.format(X1_s_test.shape))\n",
    "print('testing label shape is :{}.'.format(y1_s_test.shape))"
   ]
  },
  {
   "cell_type": "code",
   "execution_count": 10,
   "id": "a22b6ff9",
   "metadata": {},
   "outputs": [
    {
     "data": {
      "text/html": [
       "<style>#sk-container-id-1 {color: black;background-color: white;}#sk-container-id-1 pre{padding: 0;}#sk-container-id-1 div.sk-toggleable {background-color: white;}#sk-container-id-1 label.sk-toggleable__label {cursor: pointer;display: block;width: 100%;margin-bottom: 0;padding: 0.3em;box-sizing: border-box;text-align: center;}#sk-container-id-1 label.sk-toggleable__label-arrow:before {content: \"▸\";float: left;margin-right: 0.25em;color: #696969;}#sk-container-id-1 label.sk-toggleable__label-arrow:hover:before {color: black;}#sk-container-id-1 div.sk-estimator:hover label.sk-toggleable__label-arrow:before {color: black;}#sk-container-id-1 div.sk-toggleable__content {max-height: 0;max-width: 0;overflow: hidden;text-align: left;background-color: #f0f8ff;}#sk-container-id-1 div.sk-toggleable__content pre {margin: 0.2em;color: black;border-radius: 0.25em;background-color: #f0f8ff;}#sk-container-id-1 input.sk-toggleable__control:checked~div.sk-toggleable__content {max-height: 200px;max-width: 100%;overflow: auto;}#sk-container-id-1 input.sk-toggleable__control:checked~label.sk-toggleable__label-arrow:before {content: \"▾\";}#sk-container-id-1 div.sk-estimator input.sk-toggleable__control:checked~label.sk-toggleable__label {background-color: #d4ebff;}#sk-container-id-1 div.sk-label input.sk-toggleable__control:checked~label.sk-toggleable__label {background-color: #d4ebff;}#sk-container-id-1 input.sk-hidden--visually {border: 0;clip: rect(1px 1px 1px 1px);clip: rect(1px, 1px, 1px, 1px);height: 1px;margin: -1px;overflow: hidden;padding: 0;position: absolute;width: 1px;}#sk-container-id-1 div.sk-estimator {font-family: monospace;background-color: #f0f8ff;border: 1px dotted black;border-radius: 0.25em;box-sizing: border-box;margin-bottom: 0.5em;}#sk-container-id-1 div.sk-estimator:hover {background-color: #d4ebff;}#sk-container-id-1 div.sk-parallel-item::after {content: \"\";width: 100%;border-bottom: 1px solid gray;flex-grow: 1;}#sk-container-id-1 div.sk-label:hover label.sk-toggleable__label {background-color: #d4ebff;}#sk-container-id-1 div.sk-serial::before {content: \"\";position: absolute;border-left: 1px solid gray;box-sizing: border-box;top: 0;bottom: 0;left: 50%;z-index: 0;}#sk-container-id-1 div.sk-serial {display: flex;flex-direction: column;align-items: center;background-color: white;padding-right: 0.2em;padding-left: 0.2em;position: relative;}#sk-container-id-1 div.sk-item {position: relative;z-index: 1;}#sk-container-id-1 div.sk-parallel {display: flex;align-items: stretch;justify-content: center;background-color: white;position: relative;}#sk-container-id-1 div.sk-item::before, #sk-container-id-1 div.sk-parallel-item::before {content: \"\";position: absolute;border-left: 1px solid gray;box-sizing: border-box;top: 0;bottom: 0;left: 50%;z-index: -1;}#sk-container-id-1 div.sk-parallel-item {display: flex;flex-direction: column;z-index: 1;position: relative;background-color: white;}#sk-container-id-1 div.sk-parallel-item:first-child::after {align-self: flex-end;width: 50%;}#sk-container-id-1 div.sk-parallel-item:last-child::after {align-self: flex-start;width: 50%;}#sk-container-id-1 div.sk-parallel-item:only-child::after {width: 0;}#sk-container-id-1 div.sk-dashed-wrapped {border: 1px dashed gray;margin: 0 0.4em 0.5em 0.4em;box-sizing: border-box;padding-bottom: 0.4em;background-color: white;}#sk-container-id-1 div.sk-label label {font-family: monospace;font-weight: bold;display: inline-block;line-height: 1.2em;}#sk-container-id-1 div.sk-label-container {text-align: center;}#sk-container-id-1 div.sk-container {/* jupyter's `normalize.less` sets `[hidden] { display: none; }` but bootstrap.min.css set `[hidden] { display: none !important; }` so we also need the `!important` here to be able to override the default hidden behavior on the sphinx rendered scikit-learn.org. See: https://github.com/scikit-learn/scikit-learn/issues/21755 */display: inline-block !important;position: relative;}#sk-container-id-1 div.sk-text-repr-fallback {display: none;}</style><div id=\"sk-container-id-1\" class=\"sk-top-container\"><div class=\"sk-text-repr-fallback\"><pre>SVC(gamma=8, kernel=&#x27;poly&#x27;)</pre><b>In a Jupyter environment, please rerun this cell to show the HTML representation or trust the notebook. <br />On GitHub, the HTML representation is unable to render, please try loading this page with nbviewer.org.</b></div><div class=\"sk-container\" hidden><div class=\"sk-item\"><div class=\"sk-estimator sk-toggleable\"><input class=\"sk-toggleable__control sk-hidden--visually\" id=\"sk-estimator-id-1\" type=\"checkbox\" checked><label for=\"sk-estimator-id-1\" class=\"sk-toggleable__label sk-toggleable__label-arrow\">SVC</label><div class=\"sk-toggleable__content\"><pre>SVC(gamma=8, kernel=&#x27;poly&#x27;)</pre></div></div></div></div></div>"
      ],
      "text/plain": [
       "SVC(gamma=8, kernel='poly')"
      ]
     },
     "execution_count": 10,
     "metadata": {},
     "output_type": "execute_result"
    }
   ],
   "source": [
    "from sklearn.svm import SVC\n",
    "svc_s_model = SVC(kernel='poly',gamma=8)\n",
    "svc_s_model.fit(X1_s_train, y1_s_train)"
   ]
  },
  {
   "cell_type": "code",
   "execution_count": 11,
   "id": "8022b448",
   "metadata": {},
   "outputs": [
    {
     "name": "stdout",
     "output_type": "stream",
     "text": [
      "Training confusion matrix\n",
      "[[185   2]\n",
      " [  0 188]]\n",
      "validation confusion matrix\n",
      "[[61  2]\n",
      " [ 0 62]]\n",
      "              precision    recall  f1-score   support\n",
      "\n",
      "         0.0       1.00      0.97      0.98        63\n",
      "         1.0       0.97      1.00      0.98        62\n",
      "\n",
      "    accuracy                           0.98       125\n",
      "   macro avg       0.98      0.98      0.98       125\n",
      "weighted avg       0.98      0.98      0.98       125\n",
      "\n",
      "training accuracy = 99.46666666666667\n",
      "testing accuracy = 98.4\n"
     ]
    }
   ],
   "source": [
    "from sklearn.metrics import accuracy_score, confusion_matrix, classification_report\n",
    "predictions= svc_s_model.predict(X1_s_train)\n",
    "percentage=svc_s_model.score(X1_s_train,y1_s_train)\n",
    "res=confusion_matrix(y1_s_train,predictions)\n",
    "print(\"Training confusion matrix\")\n",
    "print(res)\n",
    "predictions= svc_s_model.predict(X1_s_test)\n",
    "percentage=svc_s_model.score(X1_s_test,y1_s_test)\n",
    "res=confusion_matrix(y1_s_test,predictions)\n",
    "print(\"validation confusion matrix\")\n",
    "print(res)\n",
    "print(classification_report(y1_s_test, predictions))\n",
    "# check the accuracy on the training set\n",
    "print('training accuracy = '+str(svc_s_model.score(X1_s_train, y1_s_train)*100))\n",
    "print('testing accuracy = '+str(svc_s_model.score(X1_s_test, y1_s_test)*100))"
   ]
  },
  {
   "cell_type": "code",
   "execution_count": 15,
   "id": "e13bb546",
   "metadata": {},
   "outputs": [
    {
     "name": "stdout",
     "output_type": "stream",
     "text": [
      "Model: \"sequential_1\"\n",
      "_________________________________________________________________\n",
      " Layer (type)                Output Shape              Param #   \n",
      "=================================================================\n",
      " dense_3 (Dense)             (None, 256)               2560      \n",
      "                                                                 \n",
      " dense_4 (Dense)             (None, 256)               65792     \n",
      "                                                                 \n",
      " dense_5 (Dense)             (None, 1)                 257       \n",
      "                                                                 \n",
      "=================================================================\n",
      "Total params: 68,609\n",
      "Trainable params: 68,609\n",
      "Non-trainable params: 0\n",
      "_________________________________________________________________\n"
     ]
    }
   ],
   "source": [
    "import tensorflow as tf\n",
    "from tensorflow.keras import Sequential\n",
    "from tensorflow.keras.layers import Dense, Dropout\n",
    "dl_model = Sequential() \n",
    "\n",
    "dl_model.add(Dense(256,  activation = 'relu' ,input_shape=([9]))) #input layer\n",
    "dl_model.add(Dense(256,  activation = 'relu'))\n",
    "dl_model.add(Dense(1,activation = 'sigmoid'))\n",
    "dl_model.summary()\n",
    "dl_model.compile(optimizer = 'adam' , loss = 'binary_crossentropy' ,metrics = ['accuracy','Precision','Recall','AUC'])"
   ]
  },
  {
   "cell_type": "code",
   "execution_count": 16,
   "id": "2bedac78",
   "metadata": {},
   "outputs": [
    {
     "name": "stdout",
     "output_type": "stream",
     "text": [
      "Epoch 1/25\n",
      "40/40 [==============================] - 1s 10ms/step - loss: 0.6352 - accuracy: 0.6835 - precision: 0.8115 - recall: 0.4925 - auc: 0.7573 - val_loss: 0.6014 - val_accuracy: 0.7280 - val_precision: 0.7500 - val_recall: 0.6774 - val_auc: 0.7887\n",
      "Epoch 2/25\n",
      "40/40 [==============================] - 0s 4ms/step - loss: 0.5076 - accuracy: 0.8000 - precision: 0.8391 - recall: 0.7411 - auc: 0.8504 - val_loss: 0.4898 - val_accuracy: 0.7840 - val_precision: 0.8431 - val_recall: 0.6935 - val_auc: 0.8719\n",
      "Epoch 3/25\n",
      "40/40 [==============================] - 0s 4ms/step - loss: 0.4246 - accuracy: 0.8152 - precision: 0.8686 - recall: 0.7525 - auc: 0.8932 - val_loss: 0.4179 - val_accuracy: 0.8480 - val_precision: 0.8413 - val_recall: 0.8548 - val_auc: 0.9186\n",
      "Epoch 4/25\n",
      "40/40 [==============================] - 0s 3ms/step - loss: 0.3595 - accuracy: 0.8709 - precision: 0.9264 - recall: 0.7947 - auc: 0.9240 - val_loss: 0.3690 - val_accuracy: 0.8560 - val_precision: 0.8548 - val_recall: 0.8548 - val_auc: 0.9279\n",
      "Epoch 5/25\n",
      "40/40 [==============================] - 0s 3ms/step - loss: 0.3255 - accuracy: 0.8709 - precision: 0.8895 - recall: 0.8492 - auc: 0.9397 - val_loss: 0.3310 - val_accuracy: 0.8720 - val_precision: 0.8833 - val_recall: 0.8548 - val_auc: 0.9383\n",
      "Epoch 6/25\n",
      "40/40 [==============================] - 0s 4ms/step - loss: 0.3221 - accuracy: 0.8709 - precision: 0.8866 - recall: 0.8557 - auc: 0.9376 - val_loss: 0.3056 - val_accuracy: 0.8720 - val_precision: 0.9259 - val_recall: 0.8065 - val_auc: 0.9489\n",
      "Epoch 7/25\n",
      "40/40 [==============================] - 0s 4ms/step - loss: 0.2615 - accuracy: 0.9013 - precision: 0.9538 - recall: 0.8418 - auc: 0.9646 - val_loss: 0.2862 - val_accuracy: 0.8800 - val_precision: 0.8983 - val_recall: 0.8548 - val_auc: 0.9539\n",
      "Epoch 8/25\n",
      "40/40 [==============================] - 0s 4ms/step - loss: 0.2315 - accuracy: 0.9114 - precision: 0.9448 - recall: 0.8724 - auc: 0.9728 - val_loss: 0.2990 - val_accuracy: 0.8800 - val_precision: 0.8310 - val_recall: 0.9516 - val_auc: 0.9546\n",
      "Epoch 9/25\n",
      "40/40 [==============================] - 0s 3ms/step - loss: 0.2180 - accuracy: 0.9190 - precision: 0.9375 - recall: 0.9000 - auc: 0.9763 - val_loss: 0.2740 - val_accuracy: 0.9120 - val_precision: 0.9636 - val_recall: 0.8548 - val_auc: 0.9585\n",
      "Epoch 10/25\n",
      "40/40 [==============================] - 0s 4ms/step - loss: 0.2185 - accuracy: 0.9241 - precision: 0.9378 - recall: 0.9095 - auc: 0.9716 - val_loss: 0.2434 - val_accuracy: 0.9120 - val_precision: 0.9322 - val_recall: 0.8871 - val_auc: 0.9635\n",
      "Epoch 11/25\n",
      "40/40 [==============================] - 0s 3ms/step - loss: 0.2089 - accuracy: 0.9266 - precision: 0.9289 - recall: 0.9242 - auc: 0.9764 - val_loss: 0.2458 - val_accuracy: 0.9280 - val_precision: 0.9077 - val_recall: 0.9516 - val_auc: 0.9625\n",
      "Epoch 12/25\n",
      "40/40 [==============================] - 0s 3ms/step - loss: 0.1817 - accuracy: 0.9494 - precision: 0.9581 - recall: 0.9385 - auc: 0.9817 - val_loss: 0.2622 - val_accuracy: 0.9200 - val_precision: 0.8939 - val_recall: 0.9516 - val_auc: 0.9603\n",
      "Epoch 13/25\n",
      "40/40 [==============================] - 0s 4ms/step - loss: 0.1747 - accuracy: 0.9291 - precision: 0.9471 - recall: 0.9086 - auc: 0.9833 - val_loss: 0.2331 - val_accuracy: 0.9120 - val_precision: 0.9636 - val_recall: 0.8548 - val_auc: 0.9675\n",
      "Epoch 14/25\n",
      "40/40 [==============================] - 0s 3ms/step - loss: 0.1984 - accuracy: 0.9316 - precision: 0.9474 - recall: 0.9137 - auc: 0.9777 - val_loss: 0.2115 - val_accuracy: 0.9200 - val_precision: 0.9483 - val_recall: 0.8871 - val_auc: 0.9730\n",
      "Epoch 15/25\n",
      "40/40 [==============================] - 0s 4ms/step - loss: 0.1442 - accuracy: 0.9494 - precision: 0.9519 - recall: 0.9519 - auc: 0.9904 - val_loss: 0.1989 - val_accuracy: 0.9600 - val_precision: 0.9672 - val_recall: 0.9516 - val_auc: 0.9758\n",
      "Epoch 16/25\n",
      "40/40 [==============================] - 0s 4ms/step - loss: 0.1514 - accuracy: 0.9595 - precision: 0.9594 - recall: 0.9594 - auc: 0.9868 - val_loss: 0.2107 - val_accuracy: 0.9120 - val_precision: 0.9636 - val_recall: 0.8548 - val_auc: 0.9767\n",
      "Epoch 17/25\n",
      "40/40 [==============================] - 0s 5ms/step - loss: 0.1477 - accuracy: 0.9494 - precision: 0.9672 - recall: 0.9267 - auc: 0.9889 - val_loss: 0.2139 - val_accuracy: 0.9200 - val_precision: 0.8939 - val_recall: 0.9516 - val_auc: 0.9741\n",
      "Epoch 18/25\n",
      "40/40 [==============================] - 0s 5ms/step - loss: 0.1234 - accuracy: 0.9646 - precision: 0.9747 - recall: 0.9554 - auc: 0.9927 - val_loss: 0.1905 - val_accuracy: 0.9520 - val_precision: 0.9516 - val_recall: 0.9516 - val_auc: 0.9757\n",
      "Epoch 19/25\n",
      "40/40 [==============================] - 0s 4ms/step - loss: 0.1389 - accuracy: 0.9615 - precision: 0.9590 - recall: 0.9639 - auc: 0.9883 - val_loss: 0.1857 - val_accuracy: 0.9600 - val_precision: 0.9672 - val_recall: 0.9516 - val_auc: 0.9773\n",
      "Epoch 20/25\n",
      "40/40 [==============================] - 0s 3ms/step - loss: 0.1257 - accuracy: 0.9722 - precision: 0.9796 - recall: 0.9648 - auc: 0.9911 - val_loss: 0.1792 - val_accuracy: 0.9600 - val_precision: 0.9672 - val_recall: 0.9516 - val_auc: 0.9785\n",
      "Epoch 21/25\n",
      "40/40 [==============================] - 0s 4ms/step - loss: 0.1027 - accuracy: 0.9747 - precision: 0.9757 - recall: 0.9757 - auc: 0.9933 - val_loss: 0.1630 - val_accuracy: 0.9600 - val_precision: 0.9524 - val_recall: 0.9677 - val_auc: 0.9812\n",
      "Epoch 22/25\n",
      "40/40 [==============================] - 0s 4ms/step - loss: 0.1215 - accuracy: 0.9595 - precision: 0.9583 - recall: 0.9583 - auc: 0.9910 - val_loss: 0.1863 - val_accuracy: 0.9440 - val_precision: 0.9231 - val_recall: 0.9677 - val_auc: 0.9793\n",
      "Epoch 23/25\n",
      "40/40 [==============================] - 0s 4ms/step - loss: 0.0910 - accuracy: 0.9848 - precision: 0.9852 - recall: 0.9852 - auc: 0.9942 - val_loss: 0.1929 - val_accuracy: 0.9440 - val_precision: 0.8986 - val_recall: 1.0000 - val_auc: 0.9822\n",
      "Epoch 24/25\n",
      "25/40 [=================>............] - ETA: 0s - loss: 0.1338 - accuracy: 0.9560 - precision: 0.9474 - recall: 0.9558 - auc: 0.9890WARNING:tensorflow:Your input ran out of data; interrupting training. Make sure that your dataset or generator can generate at least `steps_per_epoch * epochs` batches (in this case, 1000 batches). You may need to use the repeat() function when building your dataset.\n",
      "40/40 [==============================] - 0s 3ms/step - loss: 0.1254 - accuracy: 0.9627 - precision: 0.9574 - recall: 0.9643 - auc: 0.9905 - val_loss: 0.1522 - val_accuracy: 0.9680 - val_precision: 0.9677 - val_recall: 0.9677 - val_auc: 0.9830\n"
     ]
    }
   ],
   "source": [
    "num_epochs = 25\n",
    "history = dl_model.fit(X1_s_train ,\n",
    "                    y1_s_train ,\n",
    "                    epochs= num_epochs ,\n",
    "                    steps_per_epoch=40,\n",
    "                    validation_data=(X1_s_test ,y1_s_test))"
   ]
  },
  {
   "cell_type": "code",
   "execution_count": 17,
   "id": "b3353773",
   "metadata": {},
   "outputs": [
    {
     "name": "stdout",
     "output_type": "stream",
     "text": [
      "4/4 [==============================] - 0s 3ms/step - loss: 0.1522 - accuracy: 0.9680 - precision: 0.9677 - recall: 0.9677 - auc: 0.9830\n"
     ]
    },
    {
     "data": {
      "text/plain": [
       "[0.15218649804592133,\n",
       " 0.9679999947547913,\n",
       " 0.9677419066429138,\n",
       " 0.9677419066429138,\n",
       " 0.9829748868942261]"
      ]
     },
     "execution_count": 17,
     "metadata": {},
     "output_type": "execute_result"
    }
   ],
   "source": [
    "dl_model.evaluate(X1_s_test ,y1_s_test)"
   ]
  },
  {
   "cell_type": "code",
   "execution_count": 18,
   "id": "fe8854ca",
   "metadata": {},
   "outputs": [
    {
     "name": "stdout",
     "output_type": "stream",
     "text": [
      "12/12 [==============================] - 0s 3ms/step - loss: 0.0861 - accuracy: 0.9893 - precision: 0.9894 - recall: 0.9894 - auc: 0.9948\n"
     ]
    },
    {
     "data": {
      "text/plain": [
       "[0.0860566645860672,\n",
       " 0.9893333315849304,\n",
       " 0.9893617033958435,\n",
       " 0.9893617033958435,\n",
       " 0.9948373436927795]"
      ]
     },
     "execution_count": 18,
     "metadata": {},
     "output_type": "execute_result"
    }
   ],
   "source": [
    "dl_model.evaluate(X1_s_train ,y1_s_train)"
   ]
  },
  {
   "cell_type": "code",
   "execution_count": 19,
   "id": "0199ed0b",
   "metadata": {},
   "outputs": [],
   "source": [
    "dl_model.save('breast cancer coimbra dataset-ANN.h5')"
   ]
  }
 ],
 "metadata": {
  "kernelspec": {
   "display_name": "Python 3",
   "language": "python",
   "name": "python3"
  },
  "language_info": {
   "codemirror_mode": {
    "name": "ipython",
    "version": 3
   },
   "file_extension": ".py",
   "mimetype": "text/x-python",
   "name": "python",
   "nbconvert_exporter": "python",
   "pygments_lexer": "ipython3",
   "version": "3.8.8"
  }
 },
 "nbformat": 4,
 "nbformat_minor": 5
}
